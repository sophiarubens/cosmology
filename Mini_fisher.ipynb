{
 "cells": [
  {
   "cell_type": "code",
   "execution_count": null,
   "id": "e8b3a51c",
   "metadata": {},
   "outputs": [],
   "source": [
    "def mini_fisher(model,param_uncertainties):\n",
    "    nparam=param_uncertainties.size[0]\n",
    "    fish=np.zeros((nparam,nparam))\n",
    "    if (nparam==1): # trivial edge case\n",
    "        fish=1/param_uncertainties**2\n",
    "    else: # typical case ... multiple parameters\n",
    "        for i in range(nparam):\n",
    "            for j in range(0,i): # manually populate the lower triangle\n",
    "                fish[i,j]=///PARTIAL DERIVATIVE THINGY ... WHERE TO EVALUATE FOR \n",
    "                if (i!=j): # populate the upper triangle\n",
    "                    fish[j,i]=fish[i,j] # using the Fisher matrix's inherent symmetry"
   ]
  }
 ],
 "metadata": {
  "kernelspec": {
   "display_name": "Python 3 (ipykernel)",
   "language": "python",
   "name": "python3"
  },
  "language_info": {
   "codemirror_mode": {
    "name": "ipython",
    "version": 3
   },
   "file_extension": ".py",
   "mimetype": "text/x-python",
   "name": "python",
   "nbconvert_exporter": "python",
   "pygments_lexer": "ipython3",
   "version": "3.10.8"
  }
 },
 "nbformat": 4,
 "nbformat_minor": 5
}
