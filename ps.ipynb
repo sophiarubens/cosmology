{
 "cells": [
  {
   "cell_type": "code",
   "execution_count": 1,
   "id": "0b5b416a",
   "metadata": {},
   "outputs": [],
   "source": [
    "import numpy as np\n",
    "from matplotlib import pyplot as plt"
   ]
  },
  {
   "cell_type": "markdown",
   "id": "9459ad3e",
   "metadata": {},
   "source": [
    "the long-awaited power spectrum function"
   ]
  },
  {
   "cell_type": "code",
   "execution_count": 2,
   "id": "36d6ec4b",
   "metadata": {},
   "outputs": [],
   "source": [
    "def P(T, sp_type, Lsurvey, Npix):\n",
    "    '''\n",
    "    T       = Lsurvey-x-Lsurvey-x-Lsurvey data box for which you wish to create the power spectrum\n",
    "    sp_type = for now, only 'log' and 'lin' are supported ... spacing scheme for r-bins\n",
    "    Lsurvey = side length of the simulation cube (Mpc)\n",
    "    Npix    = number of bins per side of the simulation cube\n",
    "    '''\n",
    "    # helper variables\n",
    "    Delta = Lsurvey/Npix # voxel side length\n",
    "    rmax=(3*Lsurvey/2)**(2/3)\n",
    "    if (sp_type=='log'):\n",
    "        r=np.logspace(np.log10(1/Delta),np.log10(rmax),num=Npix+2)\n",
    "    elif (sp_type=='lin'):\n",
    "        r=np.linspace(0,rmax,Npix+2)\n",
    "    else:\n",
    "        print('ERROR: UNSUPPORTED VOXEL SPACING SCHEME')\n",
    "        assert(sp_type=='log' or sp_type=='lin') # MEDIUM-TERM GOAL: ACCOMMODATE MORE EXOTIC SPACING SCHEMES\n",
    "    dr3 = Delta**3 # size of voxel\n",
    "    twopi = 2*np.pi\n",
    "    \n",
    "    # process the box values\n",
    "    Ts = np.fft.ifftshift(T)*dr3 # T-ishifted (np wants a corner origin; ishift takes you there)\n",
    "    Tts = np.fft.fftn(Ts) # T-tilde\n",
    "    Tt = np.fft.fftshift(Tts) # shift back to physics land\n",
    "    mTt = Tt*np.conjugate(Tt) # mod-squared of Tt # IMSHOW LOOKS GOOD\n",
    "    mTt = mTt.real # I checked, and there aren't even any machine precision issues in the imag part\n",
    "    \n",
    "    # prepare to tie the processed box values to relevant k-values (generate k-quantities)\n",
    "    Kshuf=twopi*np.fft.fftshift(np.fft.fftfreq(Lsurvey,d=Delta)) # fftshift not just for amplitudes\n",
    "    KX,KY,KZ=np.meshgrid(Kshuf,Kshuf,Kshuf)\n",
    "    kmags=np.sqrt(KX**2+KY**2+KZ**2)\n",
    "    k = (twopi/(Lsurvey*r)) # should be Npix*Delta in the denom, but this is just Lsurvey\n",
    "    binidxs=np.digitize(kmags,k,right=False) # IMSHOW LOOKS GOOD\n",
    "\n",
    "    # identify which box each point falls into\n",
    "    amTt=np.zeros(Npix)\n",
    "    for i,binedge in enumerate(k):\n",
    "        here=np.nonzero(i==binidxs) # WANT all box indices where the corresp bin index is the ith binedge (nonzero is like argwhere, but gives output that is suitable for indexing arrays)\n",
    "        if (len(here[0])>0): # already know len(here) = arr_dimns, so check for emptiness w/ len(here[0])\n",
    "            amTt[i]=np.mean(mTt[here])\n",
    "        else:\n",
    "            amTt[0]=0\n",
    "\n",
    "    V = Lsurvey**3 # volume of the simulation cube\n",
    "    return [np.array(k[1:-1]),np.array(amTt/V)]\n",
    "#     return [np.array(k),np.array(amTt/V)]"
   ]
  },
  {
   "cell_type": "code",
   "execution_count": null,
   "id": "40a71c94",
   "metadata": {},
   "outputs": [],
   "source": [
    "def ps_userbin(T, kbins, Lsurvey, Npix):\n",
    "    '''\n",
    "    T       = Lsurvey-x-Lsurvey-x-Lsurvey data box for which you wish to create the power spectrum\n",
    "    kbins   = user-defined (if using this wrapper function, then probably custom-spaced) VECTOR of k-bins\n",
    "    Lsurvey = side length of the simulation cube (Mpc)\n",
    "    Npix    = number of **bins** per side of the simulation cube\n",
    "    '''\n",
    "    return P(T,kbins,Lsurvey,Npix)\n",
    "\n",
    "def ps_autobin(T, mode, kmin, kmax, Lsurvey, Npix):\n",
    "    '''\n",
    "    T       = Lsurvey-x-Lsurvey-x-Lsurvey data box for which you wish to create the power spectrum\n",
    "    mode    = binning mode (linear or logarithmic)\n",
    "    kmin    = smallest k-mode for which the power spectrum is defined\n",
    "    kmax    = largest k-mode for which the power spectrum is defined \n",
    "    Lsurvey = side length of the simulation cube (Mpc)\n",
    "    Npix    = number of **bins** per side of the simulation cube\n",
    "    '''\n",
    "    kmin=twopi/Lsurvey\n",
    "    Delta=Lsurvey/Npix\n",
    "    kmax=twopi/Delta\n",
    "    assert (mode=='lin' or mode=='log'), 'only linear and logarithmic auto-generated bins are currently support'\n",
    "    assert kmax>kmin, 'kmax must be strictly greater than kmin'\n",
    "    if (mode=='log'):\n",
    "        k=np.logspace(kmin,kmax,num=Npix+2)\n",
    "    else:\n",
    "        k=np.linspace()\n",
    "    return None"
   ]
  },
  {
   "cell_type": "markdown",
   "id": "86fd1049",
   "metadata": {},
   "source": [
    "white noise test"
   ]
  },
  {
   "cell_type": "code",
   "execution_count": 4,
   "id": "efa1dae2",
   "metadata": {
    "scrolled": false
   },
   "outputs": [
    {
     "ename": "NameError",
     "evalue": "name 'sp_type' is not defined",
     "output_type": "error",
     "traceback": [
      "\u001b[0;31m---------------------------------------------------------------------------\u001b[0m",
      "\u001b[0;31mNameError\u001b[0m                                 Traceback (most recent call last)",
      "Cell \u001b[0;32mIn[4], line 7\u001b[0m\n\u001b[1;32m      3\u001b[0m T \u001b[38;5;241m=\u001b[39m np\u001b[38;5;241m.\u001b[39mrandom\u001b[38;5;241m.\u001b[39mnormal(loc\u001b[38;5;241m=\u001b[39m\u001b[38;5;241m0.0\u001b[39m, scale\u001b[38;5;241m=\u001b[39m\u001b[38;5;241m1.0\u001b[39m, size\u001b[38;5;241m=\u001b[39m(Lsurvey,Lsurvey,Lsurvey))\n\u001b[1;32m      5\u001b[0m \u001b[38;5;66;03m# kfloors,vals=ps_autobin(T, 'log', Lsurvey, Npix)\u001b[39;00m\n\u001b[0;32m----> 7\u001b[0m kfloors,vals\u001b[38;5;241m=\u001b[39m\u001b[43mP\u001b[49m\u001b[43m(\u001b[49m\u001b[43mT\u001b[49m\u001b[43m,\u001b[49m\u001b[38;5;124;43m'\u001b[39;49m\u001b[38;5;124;43mlog\u001b[39;49m\u001b[38;5;124;43m'\u001b[39;49m\u001b[43m,\u001b[49m\u001b[43mLsurvey\u001b[49m\u001b[43m,\u001b[49m\u001b[43mNpix\u001b[49m\u001b[43m)\u001b[49m\n",
      "Cell \u001b[0;32mIn[2], line 15\u001b[0m, in \u001b[0;36mP\u001b[0;34m(T, k, Lsurvey, Npix)\u001b[0m\n\u001b[1;32m     13\u001b[0m Delta \u001b[38;5;241m=\u001b[39m Lsurvey\u001b[38;5;241m/\u001b[39mNpix \u001b[38;5;66;03m# voxel side length\u001b[39;00m\n\u001b[1;32m     14\u001b[0m rmax\u001b[38;5;241m=\u001b[39m(\u001b[38;5;241m3\u001b[39m\u001b[38;5;241m*\u001b[39mLsurvey\u001b[38;5;241m/\u001b[39m\u001b[38;5;241m2\u001b[39m)\u001b[38;5;241m*\u001b[39m\u001b[38;5;241m*\u001b[39m(\u001b[38;5;241m2\u001b[39m\u001b[38;5;241m/\u001b[39m\u001b[38;5;241m3\u001b[39m)\n\u001b[0;32m---> 15\u001b[0m \u001b[38;5;28;01mif\u001b[39;00m (\u001b[43msp_type\u001b[49m\u001b[38;5;241m==\u001b[39m\u001b[38;5;124m'\u001b[39m\u001b[38;5;124mlog\u001b[39m\u001b[38;5;124m'\u001b[39m):\n\u001b[1;32m     16\u001b[0m     r\u001b[38;5;241m=\u001b[39mnp\u001b[38;5;241m.\u001b[39mlogspace(np\u001b[38;5;241m.\u001b[39mlog10(\u001b[38;5;241m1\u001b[39m\u001b[38;5;241m/\u001b[39mDelta),np\u001b[38;5;241m.\u001b[39mlog10(rmax),num\u001b[38;5;241m=\u001b[39mNpix\u001b[38;5;241m+\u001b[39m\u001b[38;5;241m2\u001b[39m)\n\u001b[1;32m     17\u001b[0m \u001b[38;5;28;01melif\u001b[39;00m (sp_type\u001b[38;5;241m==\u001b[39m\u001b[38;5;124m'\u001b[39m\u001b[38;5;124mlin\u001b[39m\u001b[38;5;124m'\u001b[39m):\n",
      "\u001b[0;31mNameError\u001b[0m: name 'sp_type' is not defined"
     ]
    }
   ],
   "source": [
    "Lsurvey = 100\n",
    "Npix = 12\n",
    "T = np.random.normal(loc=0.0, scale=1.0, size=(Lsurvey,Lsurvey,Lsurvey))\n",
    "\n",
    "# kfloors,vals=ps_autobin(T, 'log', Lsurvey, Npix)\n",
    "\n",
    "kfloors,vals=P(T,'log',Lsurvey,Npix)"
   ]
  },
  {
   "cell_type": "code",
   "execution_count": null,
   "id": "39ba6956",
   "metadata": {},
   "outputs": [],
   "source": [
    "print(kfloors.shape)\n",
    "print(vals.shape)"
   ]
  },
  {
   "cell_type": "code",
   "execution_count": null,
   "id": "78ae6cd4",
   "metadata": {},
   "outputs": [],
   "source": [
    "# plt.imshow(T[:,:,5])\n",
    "# plt.colorbar()\n",
    "# plt.show()\n",
    "# plt.imshow(T[:,:,13])\n",
    "# plt.colorbar()\n",
    "# plt.show()"
   ]
  },
  {
   "cell_type": "code",
   "execution_count": null,
   "id": "dee7f369",
   "metadata": {
    "scrolled": false
   },
   "outputs": [],
   "source": [
    "plt.scatter(np.log(kfloors),vals)\n",
    "plt.xlabel('$k$ ($h^{-1}$Mpc)')\n",
    "plt.ylabel('Power (K$^2$ Mpc$^3$)')\n",
    "plt.title('Power spectrum of a (100 Mpc)$^3$ white noise box with 1 Mpc voxel side lengths')\n",
    "plt.show()"
   ]
  },
  {
   "cell_type": "code",
   "execution_count": null,
   "id": "3ee278a9",
   "metadata": {},
   "outputs": [],
   "source": [
    "np.savetxt('ps_wn_20px.txt',np.array([kfloors,vals]).T)"
   ]
  },
  {
   "cell_type": "markdown",
   "id": "d9e13d07",
   "metadata": {},
   "source": [
    "This is just one realization. Technically, the power spectrum is only valid in the infinite ensemble average. But, we will develop an even better understanding of the current algorithm's performance by averaging over a handful (say, 10, to start with) of cases. This will be helpful towards deciding whether there are lingering mistakes in my implementation or whether the apparent fluctuations present in a given realization are merely due to cosmic variance. "
   ]
  },
  {
   "cell_type": "code",
   "execution_count": null,
   "id": "427d194b",
   "metadata": {
    "scrolled": false
   },
   "outputs": [],
   "source": [
    "nrealizations=25\n",
    "allps=np.zeros([Npix,nrealizations])\n",
    "for i in range(nrealizations):\n",
    "    T = np.random.normal(loc=0.0, scale=1.0, size=(Lsurvey,Lsurvey,Lsurvey))\n",
    "    kfls,values=P(T,'log',Lsurvey,Npix)\n",
    "    allps[:,i]=values"
   ]
  },
  {
   "cell_type": "code",
   "execution_count": null,
   "id": "0664e9f7",
   "metadata": {},
   "outputs": [],
   "source": [
    "print(allps.shape)\n",
    "meanps=np.mean(allps,axis=1)"
   ]
  },
  {
   "cell_type": "code",
   "execution_count": null,
   "id": "c39cc4fd",
   "metadata": {},
   "outputs": [],
   "source": [
    "plt.scatter(np.log(kfls),meanps)\n",
    "plt.xlabel('$\\log(k)$ ($h^{-1}$Mpc)')\n",
    "plt.ylabel('Power (K$^2$ Mpc$^3$)')\n",
    "plt.title('Averaging over '+str(nrealizations)+' realizations - white noise power spectrum of a (100 Mpc)$^3$ box')\n",
    "plt.show()\n",
    "np.savetxt('meanps_10rz_20px.txt',meanps)"
   ]
  },
  {
   "cell_type": "markdown",
   "id": "2a69efae",
   "metadata": {},
   "source": [
    "21cmFast example"
   ]
  },
  {
   "cell_type": "code",
   "execution_count": null,
   "id": "35c6f2ee",
   "metadata": {},
   "outputs": [],
   "source": [
    "zs=[5,6,7,8,9,10]\n",
    "pstart='./sample_boxes_21cmfast/'\n",
    "allzs21=[]\n",
    "\n",
    "for z in zs:\n",
    "    T21=np.load(pstart+'a_box_z_'+str(z)+'.npy')\n",
    "    Lsurv21=100\n",
    "    Nbins21=10\n",
    "    r21 = np.logspace(-1,1.7,num=Nbins21)\n",
    "\n",
    "    kfloors21,vals21=P(T21,'log',Lsurv21,Nbins21)\n",
    "    allzs21.append([kfloors21,vals21])"
   ]
  },
  {
   "cell_type": "code",
   "execution_count": null,
   "id": "5b9bb9d9",
   "metadata": {},
   "outputs": [],
   "source": [
    "zs=['5','6','7','8','9','10']\n",
    "xHs=[]\n",
    "fig,axs=plt.subplots(2,3,figsize=(10,6))\n",
    "i=0\n",
    "j=0\n",
    "for z in zs:\n",
    "    box=np.load(pstart+'a_box_z_'+z+'.npy')\n",
    "    xH=np.count_nonzero(box)/(100**3)\n",
    "    xHs.append(xH)\n",
    "    imcurr=axs[i][j].imshow(box[:,:,50])\n",
    "    fig.colorbar(imcurr)\n",
    "    axs[i][j].set_xlabel('voxel index')\n",
    "    axs[i][j].set_ylabel('voxel index')\n",
    "    axs[i][j].set_title('z='+str(z)+'; x̄H='+str(round(xH,3)))\n",
    "    if (j==2):\n",
    "        i=1\n",
    "        j=0\n",
    "    else:\n",
    "        j+=1\n",
    "    \n",
    "\n",
    "fig.suptitle('brightness temperature in 21cmFast boxes')\n",
    "fig.tight_layout()\n",
    "plt.show()"
   ]
  },
  {
   "cell_type": "code",
   "execution_count": null,
   "id": "9fe5d5ad",
   "metadata": {},
   "outputs": [],
   "source": [
    "for i,z in enumerate(allzs21):\n",
    "    kfloors21,vals21=z\n",
    "    plt.loglog(kfloors21,kfloors21**3*vals21/(2*np.pi**2),label='z='+str(zs[i])+'; x̄H='+str(round(xHs[i],3)))\n",
    "\n",
    "plt.xlabel('$h^{-1}k$')\n",
    "plt.ylabel('$\\Delta^2$ = k$^3$P(k)/(2$\\pi^2$)')\n",
    "plt.title('$\\Delta^2$ for various 21cmFast simulation boxes')\n",
    "plt.legend()\n",
    "plt.tight_layout()\n",
    "plt.show()"
   ]
  }
 ],
 "metadata": {
  "kernelspec": {
   "display_name": "Python 3 (ipykernel)",
   "language": "python",
   "name": "python3"
  },
  "language_info": {
   "codemirror_mode": {
    "name": "ipython",
    "version": 3
   },
   "file_extension": ".py",
   "mimetype": "text/x-python",
   "name": "python",
   "nbconvert_exporter": "python",
   "pygments_lexer": "ipython3",
   "version": "3.10.8"
  }
 },
 "nbformat": 4,
 "nbformat_minor": 5
}
